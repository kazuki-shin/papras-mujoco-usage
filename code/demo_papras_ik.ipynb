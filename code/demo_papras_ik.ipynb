{
 "cells": [
  {
   "cell_type": "markdown",
   "id": "f1f948d5",
   "metadata": {},
   "source": [
    "### Inverse Kinematics of Franka Emika `Panda`"
   ]
  },
  {
   "cell_type": "code",
   "execution_count": 1,
   "id": "8bac6655",
   "metadata": {},
   "outputs": [
    {
     "name": "stdout",
     "output_type": "stream",
     "text": [
      "Done.\n"
     ]
    }
   ],
   "source": [
    "import numpy as np\n",
    "np.set_printoptions(precision=2)\n",
    "import matplotlib.pyplot as plt\n",
    "%config InlineBackend.figure_format = 'retina'\n",
    "%matplotlib inline\n",
    "from mujoco_parser import MuJoCoParserClass\n",
    "print (\"Done.\")"
   ]
  },
  {
   "cell_type": "markdown",
   "id": "01da8fa1",
   "metadata": {},
   "source": [
    "### Move a body of `Panda` while maintaining the orientation"
   ]
  },
  {
   "cell_type": "code",
   "execution_count": 2,
   "id": "475d3159",
   "metadata": {},
   "outputs": [
    {
     "name": "stdout",
     "output_type": "stream",
     "text": [
      "Creating window glfw\n",
      "Creating window glfw\n",
      "Done.\n"
     ]
    },
    {
     "ename": "",
     "evalue": "",
     "output_type": "error",
     "traceback": [
      "\u001b[1;31mThe Kernel crashed while executing code in the the current cell or a previous cell. Please review the code in the cell(s) to identify a possible cause of the failure. Click <a href='https://aka.ms/vscodeJupyterKernelCrash'>here</a> for more info. View Jupyter <a href='command:jupyter.viewOutput'>log</a> for further details."
     ]
    }
   ],
   "source": [
    "env = MuJoCoParserClass(name='PAPRAS',rel_xml_path='../asset/papras/papras.urdf.xml',VERBOSE=False)\n",
    "env.init_viewer(TERMINATE_GLFW=True,INITIALIZE_GLFW=True,window_width=0.5,window_height=0.5)\n",
    "env.set_max_tick(max_tick=100)\n",
    "\n",
    "# Prepare for IK\n",
    "body_name = 'robot1/end_link' # panda_eef / panda_link_4 / panda_link_5 / panda_link_6\n",
    "q         = env.get_q_pos(q_pos_idxs=env.rev_joint_idxs)\n",
    "p_EE      = env.get_p_body(body_name=body_name)\n",
    "R_EE      = env.get_R_body(body_name=body_name)\n",
    "p_trgt    = p_EE + np.array([0.5,0.0,-0.5])\n",
    "R_trgt    = R_EE\n",
    "\n",
    "# Buffers\n",
    "err_list = np.zeros(env.max_tick)\n",
    "q_list   = np.zeros((env.max_tick,env.n_rev_joint))\n",
    "while env.IS_ALIVE():\n",
    "    # Numerical IK\n",
    "    dq,err = env.one_step_ik(body_name=body_name,p_trgt=p_trgt,R_trgt=R_trgt,th=3.0*np.pi/180.0)\n",
    "    q = q + dq\n",
    "    # FK\n",
    "    env.forward(q_pos=q,q_pos_idxs=env.rev_joint_idxs)\n",
    "    env.add_marker(env.get_p_body(body_name),radius=0.1,color=np.array([1,0,0,0.5]))\n",
    "    env.add_marker(p_trgt,radius=0.1,color=np.array([0,0,1,0.5])) \n",
    "    env.render(RENDER_ALWAYS=True)\n",
    "    # Append\n",
    "    q_list[env.tick-1,:] = env.get_q_pos(q_pos_idxs=env.rev_joint_idxs)\n",
    "print (\"Done.\")"
   ]
  },
  {
   "cell_type": "code",
   "execution_count": null,
   "id": "47cc1685",
   "metadata": {},
   "outputs": [],
   "source": [
    "env.init_viewer(TERMINATE_GLFW=True,INITIALIZE_GLFW=True)\n",
    "fig = plt.figure(figsize=(15,6))\n",
    "for idx,tick in enumerate(np.linspace(0,env.max_tick-1,8).astype(np.int32)):\n",
    "    env.forward(q_pos=q_list[tick,:],q_pos_idxs=env.rev_joint_idxs)\n",
    "    img = env.plot_scene(render_w=400,render_h=300,\n",
    "                         cam_distance=2.0,cam_elevation=-45,cam_lookat=[0,0,1.25],RETURN_IMG=True)\n",
    "    ax = fig.add_subplot(2,4,idx+1)\n",
    "    ax.imshow(img)\n",
    "    ax.set_title('[%d/%d]'%(tick,env.max_tick-1),fontsize=12)"
   ]
  },
  {
   "cell_type": "code",
   "execution_count": null,
   "id": "54990e69",
   "metadata": {},
   "outputs": [],
   "source": []
  }
 ],
 "metadata": {
  "kernelspec": {
   "display_name": "Python 3.7.4 ('base')",
   "language": "python",
   "name": "python3"
  },
  "language_info": {
   "codemirror_mode": {
    "name": "ipython",
    "version": 3
   },
   "file_extension": ".py",
   "mimetype": "text/x-python",
   "name": "python",
   "nbconvert_exporter": "python",
   "pygments_lexer": "ipython3",
   "version": "3.7.4"
  },
  "vscode": {
   "interpreter": {
    "hash": "ef50d450906ef17a2ac2f42f162075658b83144b2abf4d6874c7c5bb0d68982e"
   }
  }
 },
 "nbformat": 4,
 "nbformat_minor": 5
}
