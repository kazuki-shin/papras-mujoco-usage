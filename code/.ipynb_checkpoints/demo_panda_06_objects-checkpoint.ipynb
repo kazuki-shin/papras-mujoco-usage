{
 "cells": [
  {
   "cell_type": "markdown",
   "id": "2e516e32",
   "metadata": {},
   "source": [
    "### Spawn objects along with `Panda`"
   ]
  },
  {
   "cell_type": "code",
   "execution_count": null,
   "id": "01d50c09",
   "metadata": {},
   "outputs": [
    {
     "name": "stdout",
     "output_type": "stream",
     "text": [
      "Done.\n"
     ]
    }
   ],
   "source": [
    "import numpy as np\n",
    "import matplotlib.pyplot as plt\n",
    "from mujoco_parser import MuJoCoParserClass\n",
    "np.set_printoptions(precision=2)\n",
    "%config InlineBackend.figure_format = 'retina'\n",
    "%matplotlib inline\n",
    "print (\"Done.\")"
   ]
  },
  {
   "cell_type": "markdown",
   "id": "1612b880",
   "metadata": {},
   "source": [
    "### Parse `Panda` with objects"
   ]
  },
  {
   "cell_type": "code",
   "execution_count": null,
   "id": "084a881d",
   "metadata": {
    "scrolled": true
   },
   "outputs": [],
   "source": [
    "env = MuJoCoParserClass(name='Panda',rel_xml_path='../asset/panda/franka_panda_w_objs.xml',VERBOSE=True)"
   ]
  },
  {
   "cell_type": "markdown",
   "id": "4a45e99e",
   "metadata": {},
   "source": [
    "### Plot"
   ]
  },
  {
   "cell_type": "code",
   "execution_count": null,
   "id": "e6d4a494",
   "metadata": {},
   "outputs": [],
   "source": [
    "env.init_viewer(TERMINATE_GLFW=False,INITIALIZE_GLFW=True,window_width=0.5,window_height=0.5)\n",
    "env.plot_scene()"
   ]
  },
  {
   "cell_type": "markdown",
   "id": "649bcde1",
   "metadata": {},
   "source": [
    "### Random spawn objects"
   ]
  },
  {
   "cell_type": "code",
   "execution_count": null,
   "id": "ff019bcc",
   "metadata": {},
   "outputs": [],
   "source": [
    "def set_object_pos(env,obj_name='obj_box_01',obj_pos=np.array([1.0,0.0,0.75])):\n",
    "    \"\"\"\n",
    "        Set object location\n",
    "    \"\"\"\n",
    "    # Get address\n",
    "    qpos_addr = env.sim.model.get_joint_qpos_addr(obj_name)\n",
    "    # Set position\n",
    "    env.sim.data.qpos[qpos_addr[0]]   = obj_pos[0]\n",
    "    env.sim.data.qpos[qpos_addr[0]+1] = obj_pos[1]\n",
    "    env.sim.data.qpos[qpos_addr[0]+2] = obj_pos[2]\n",
    "    # Set rotation (upstraight)\n",
    "    env.sim.data.qpos[qpos_addr[0]+3:qpos_addr[1]] = [0,0,0,1]\n",
    "print (\"Done.\")"
   ]
  },
  {
   "cell_type": "code",
   "execution_count": null,
   "id": "e1020b0e",
   "metadata": {},
   "outputs": [],
   "source": [
    "set_object_pos(env,obj_name='obj_box_01',obj_pos=np.array([-1.0,0.0,0.0]))\n",
    "set_object_pos(env,obj_name='obj_box_02',obj_pos=np.array([-1.0,0.1,0.0]))\n",
    "set_object_pos(env,obj_name='obj_cylinder_01',obj_pos=np.array([-1.0,0.2,0.0]))\n",
    "set_object_pos(env,obj_name='obj_cylinder_02',obj_pos=np.array([-1.0,0.3,0.0]))"
   ]
  },
  {
   "cell_type": "code",
   "execution_count": null,
   "id": "0845a565",
   "metadata": {},
   "outputs": [],
   "source": []
  },
  {
   "cell_type": "code",
   "execution_count": null,
   "id": "d3ec58c3",
   "metadata": {},
   "outputs": [],
   "source": [
    "env.init_viewer(TERMINATE_GLFW=False,INITIALIZE_GLFW=True,window_width=0.5,window_height=0.5)\n",
    "while True:\n",
    "    \n",
    "    env.step()\n",
    "    \n",
    "    env.add_marker(pos=np.array([0,0,0]),radius=0.5,color=np.array([1,0,0,1]))\n",
    "    env.add_marker(pos=np.array([1.0,0,1.0]),radius=0.05,color=np.array([1,0,0,1]),label='[1,0,1]')\n",
    "    env.add_marker(pos=np.array([1.0,0,0.75]),radius=0.05,color=np.array([1,0,0,1]),label='[1,0,0.75]')\n",
    "    env.add_marker(pos=np.array([1.0,0.25,0.75]),radius=0.05,color=np.array([1,0,0,1]),label='[1,0.25,0.75]')\n",
    "    env.add_marker(pos=np.array([1.0,0,2.0]),radius=0.05,color=np.array([0,1,0,1]),label='[1,0,2]')\n",
    "    \n",
    "    env.render()"
   ]
  },
  {
   "cell_type": "code",
   "execution_count": null,
   "id": "d7ad97f0",
   "metadata": {},
   "outputs": [],
   "source": []
  }
 ],
 "metadata": {
  "kernelspec": {
   "display_name": "Python 3 (ipykernel)",
   "language": "python",
   "name": "python3"
  },
  "language_info": {
   "codemirror_mode": {
    "name": "ipython",
    "version": 3
   },
   "file_extension": ".py",
   "mimetype": "text/x-python",
   "name": "python",
   "nbconvert_exporter": "python",
   "pygments_lexer": "ipython3",
   "version": "3.8.13"
  }
 },
 "nbformat": 4,
 "nbformat_minor": 5
}
