{
 "cells": [
  {
   "cell_type": "markdown",
   "id": "052458aa",
   "metadata": {},
   "source": [
    "### Forward Kinematics of Franka Emika `Panda`"
   ]
  },
  {
   "cell_type": "code",
   "execution_count": 1,
   "id": "72183bad",
   "metadata": {},
   "outputs": [
    {
     "name": "stdout",
     "output_type": "stream",
     "text": [
      "Done.\n"
     ]
    }
   ],
   "source": [
    "import numpy as np\n",
    "np.set_printoptions(precision=2)\n",
    "import matplotlib.pyplot as plt\n",
    "%config InlineBackend.figure_format = 'retina'\n",
    "%matplotlib inline\n",
    "from mujoco_parser import MuJoCoParserClass\n",
    "print (\"Done.\")"
   ]
  },
  {
   "cell_type": "markdown",
   "id": "fcaceea1",
   "metadata": {},
   "source": [
    "### Forward kinematics of `Panda` of a random pose\n",
    " Note that kinematics does not care about Laws of Motion."
   ]
  },
  {
   "cell_type": "code",
   "execution_count": 2,
   "id": "2d7da045",
   "metadata": {},
   "outputs": [
    {
     "name": "stdout",
     "output_type": "stream",
     "text": [
      "Creating window glfw\n",
      "Creating window glfw\n"
     ]
    },
    {
     "ename": "NameError",
     "evalue": "name 'rev_range' is not defined",
     "output_type": "error",
     "traceback": [
      "\u001b[0;31m---------------------------------------------------------------------------\u001b[0m",
      "\u001b[0;31mNameError\u001b[0m                                 Traceback (most recent call last)",
      "Input \u001b[0;32mIn [2]\u001b[0m, in \u001b[0;36m<cell line: 5>\u001b[0;34m()\u001b[0m\n\u001b[1;32m      4\u001b[0m q_list \u001b[38;5;241m=\u001b[39m np\u001b[38;5;241m.\u001b[39mzeros((env\u001b[38;5;241m.\u001b[39mmax_tick,env\u001b[38;5;241m.\u001b[39mn_rev_joint))\n\u001b[1;32m      5\u001b[0m \u001b[38;5;28;01mwhile\u001b[39;00m env\u001b[38;5;241m.\u001b[39mIS_ALIVE():\n\u001b[0;32m----> 6\u001b[0m     q_rand \u001b[38;5;241m=\u001b[39m \u001b[43mrev_range\u001b[49m[:,\u001b[38;5;241m0\u001b[39m]\u001b[38;5;241m+\u001b[39m(rev_range[:,\u001b[38;5;241m1\u001b[39m]\u001b[38;5;241m-\u001b[39mrev_range[:,\u001b[38;5;241m0\u001b[39m])\u001b[38;5;241m*\u001b[39mnp\u001b[38;5;241m.\u001b[39mrandom\u001b[38;5;241m.\u001b[39mrand(env\u001b[38;5;241m.\u001b[39mn_rev_joint)\n\u001b[1;32m      7\u001b[0m     env\u001b[38;5;241m.\u001b[39mforward(q_pos\u001b[38;5;241m=\u001b[39mq_rand,q_pos_idxs\u001b[38;5;241m=\u001b[39menv\u001b[38;5;241m.\u001b[39mrev_joint_idxs)\n\u001b[1;32m      8\u001b[0m     env\u001b[38;5;241m.\u001b[39mrender(RENDER_ALWAYS\u001b[38;5;241m=\u001b[39m\u001b[38;5;28;01mTrue\u001b[39;00m)\n",
      "\u001b[0;31mNameError\u001b[0m: name 'rev_range' is not defined"
     ]
    }
   ],
   "source": [
    "env = MuJoCoParserClass(name='Panda',rel_xml_path='../asset/panda/franka_panda.xml',VERBOSE=False)\n",
    "env.init_viewer(TERMINATE_GLFW=True,INITIALIZE_GLFW=True,window_width=0.5,window_height=0.5)\n",
    "env.set_max_tick(max_tick=100)\n",
    "q_list = np.zeros((env.max_tick,env.n_rev_joint))\n",
    "while env.IS_ALIVE():\n",
    "    rev_range = env.joint_range[env.rev_joint_idxs]\n",
    "    q_rand = rev_range[:,0]+(rev_range[:,1]-rev_range[:,0])*np.random.rand(env.n_rev_joint)\n",
    "    env.forward(q_pos=q_rand,q_pos_idxs=env.rev_joint_idxs)\n",
    "    env.render(RENDER_ALWAYS=True)\n",
    "    # Append\n",
    "    q_list[env.tick-1,:] = env.get_q_pos(q_pos_idxs=env.rev_joint_idxs)\n",
    "print (\"Done.\")"
   ]
  },
  {
   "cell_type": "code",
   "execution_count": null,
   "id": "ea8081c4",
   "metadata": {},
   "outputs": [],
   "source": [
    "env.init_viewer(TERMINATE_GLFW=True,INITIALIZE_GLFW=True)\n",
    "fig = plt.figure(figsize=(15,6))\n",
    "for idx,tick in enumerate(np.linspace(0,env.max_tick-1,8).astype(np.int32)):\n",
    "    env.forward(q_pos=q_list[tick,:],q_pos_idxs=env.rev_joint_idxs)\n",
    "    img = env.plot_scene(render_w=400,render_h=300,\n",
    "                         cam_distance=2.0,cam_elevation=-45,cam_lookat=[0,0,1.25],RETURN_IMG=True)\n",
    "    ax = fig.add_subplot(2,4,idx+1)\n",
    "    ax.imshow(img)\n",
    "    ax.set_title('[%d/%d]'%(tick,env.max_tick-1),fontsize=12)"
   ]
  },
  {
   "cell_type": "code",
   "execution_count": null,
   "id": "61c9e000",
   "metadata": {},
   "outputs": [],
   "source": []
  }
 ],
 "metadata": {
  "kernelspec": {
   "display_name": "Python 3 (ipykernel)",
   "language": "python",
   "name": "python3"
  },
  "language_info": {
   "codemirror_mode": {
    "name": "ipython",
    "version": 3
   },
   "file_extension": ".py",
   "mimetype": "text/x-python",
   "name": "python",
   "nbconvert_exporter": "python",
   "pygments_lexer": "ipython3",
   "version": "3.8.13"
  }
 },
 "nbformat": 4,
 "nbformat_minor": 5
}
