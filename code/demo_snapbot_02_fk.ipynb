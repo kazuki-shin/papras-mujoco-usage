{
 "cells": [
  {
   "cell_type": "markdown",
   "id": "e73369fd",
   "metadata": {},
   "source": [
    "### Forward Kinematics of  `Snapbot`"
   ]
  },
  {
   "cell_type": "code",
   "execution_count": 1,
   "id": "2347cb36",
   "metadata": {},
   "outputs": [
    {
     "name": "stdout",
     "output_type": "stream",
     "text": [
      "Done.\n"
     ]
    }
   ],
   "source": [
    "import numpy as np\n",
    "import matplotlib.pyplot as plt\n",
    "from mujoco_parser import MuJoCoParserClass\n",
    "from snapbot_util import get_snapbot_q\n",
    "np.set_printoptions(precision=2)\n",
    "%config InlineBackend.figure_format = 'retina'\n",
    "%matplotlib inline\n",
    "print (\"Done.\")"
   ]
  },
  {
   "cell_type": "markdown",
   "id": "eb9b32b9",
   "metadata": {},
   "source": [
    "### Forward kinematics of `Snapbot` of a random pose\n",
    " - Note that kinematics does not care about Laws of Motion.\n",
    " - FK becomes more tricky as we have a `closed` chain"
   ]
  },
  {
   "cell_type": "code",
   "execution_count": 2,
   "id": "2298050d",
   "metadata": {
    "scrolled": true
   },
   "outputs": [
    {
     "name": "stdout",
     "output_type": "stream",
     "text": [
      "Creating window glfw\n",
      "Creating window glfw\n",
      "[0. 0. 0. 1. 0. 0. 0. 0. 0. 0. 0. 0. 0. 0. 0. 0. 0. 0. 0. 0. 0. 0. 0. 0.\n",
      " 0.]\n",
      "[ 0.    0.   -2.75 -0.78 -0.63  0.    0.    0.26 -0.11  0.    0.   -0.04\n",
      " -0.22  0.    0.   -0.46  0.12  0.    0.    0.    0.    0.    0.    0.\n",
      "  0.  ]\n",
      "[ 0.    0.   -1.27 -0.54 -0.84  0.    0.   -0.01  0.68  0.    0.   -0.52\n",
      " -0.06  0.    0.   -0.06  0.37  0.    0.    0.    0.    0.    0.    0.\n",
      "  0.  ]\n",
      "[ 0.    0.   -1.93 -0.86  0.51  0.    0.   -0.08  0.43  0.    0.   -0.5\n",
      " -0.54  0.    0.    0.19  0.66  0.    0.    0.    0.    0.    0.    0.\n",
      "  0.  ]\n",
      "[ 0.    0.   -0.05 -0.71 -0.7   0.    0.   -0.16  0.39  0.    0.   -0.33\n",
      "  0.34  0.    0.   -0.26 -0.68  0.    0.    0.    0.    0.    0.    0.\n",
      "  0.  ]\n",
      "Done.\n"
     ]
    }
   ],
   "source": [
    "env = MuJoCoParserClass(name='Snapbot',rel_xml_path='../asset/snapbot/robot_4_1245.xml',VERBOSE=False)\n",
    "env.init_viewer(TERMINATE_GLFW=True,INITIALIZE_GLFW=True,window_width=0.5,window_height=0.5,\n",
    "                cam_elevation=-20,cam_distance=1.0)\n",
    "env.set_max_tick(max_tick=500)\n",
    "q_list = np.zeros((env.max_tick,env.n_joint))\n",
    "while env.IS_ALIVE():\n",
    "    joint_range = env.joint_range[env.joint_idxs]\n",
    "    if (env.tick%100) == 0:\n",
    "        q_rand = joint_range[:,0]+(joint_range[:,1]-joint_range[:,0])*np.random.rand(env.n_joint)\n",
    "        sim_state = env.sim.get_state()\n",
    "        print (sim_state.qpos)\n",
    "    env.forward(q_pos=q_rand,q_pos_idxs=env.joint_idxs)\n",
    "    env.render(cam_lookat=env.get_p_body(body_name='torso'),RENDER_ALWAYS=True)\n",
    "    # Append\n",
    "    q_list[env.tick-1,:] = env.get_q_pos(q_pos_idxs=env.joint_idxs)\n",
    "env.terminate_viewer()\n",
    "env.sleep(1.0)\n",
    "print (\"Done.\")"
   ]
  },
  {
   "cell_type": "markdown",
   "id": "8c9ac25f",
   "metadata": {},
   "source": [
    "### Hence, FK does `NOT` work for `Snapbot`"
   ]
  },
  {
   "cell_type": "code",
   "execution_count": null,
   "id": "1e478f65",
   "metadata": {},
   "outputs": [],
   "source": []
  }
 ],
 "metadata": {
  "kernelspec": {
   "display_name": "Python 3 (ipykernel)",
   "language": "python",
   "name": "python3"
  },
  "language_info": {
   "codemirror_mode": {
    "name": "ipython",
    "version": 3
   },
   "file_extension": ".py",
   "mimetype": "text/x-python",
   "name": "python",
   "nbconvert_exporter": "python",
   "pygments_lexer": "ipython3",
   "version": "3.8.13"
  }
 },
 "nbformat": 4,
 "nbformat_minor": 5
}
