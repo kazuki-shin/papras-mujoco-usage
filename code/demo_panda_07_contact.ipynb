{
 "cells": [
  {
   "cell_type": "markdown",
   "id": "5f928119",
   "metadata": {},
   "source": [
    "### Push motion of `Panda` and contact detection"
   ]
  },
  {
   "cell_type": "code",
   "execution_count": null,
   "id": "833bc7d3",
   "metadata": {},
   "outputs": [],
   "source": [
    "import numpy as np\n",
    "import matplotlib.pyplot as plt\n",
    "import mujoco_py\n",
    "from mujoco_parser import *\n",
    "from util import *\n",
    "np.set_printoptions(precision=2)\n",
    "%config InlineBackend.figure_format = 'retina'\n",
    "%matplotlib inline\n",
    "print (\"Done.\")"
   ]
  },
  {
   "cell_type": "markdown",
   "id": "afaf8edc",
   "metadata": {},
   "source": [
    "### Parse `Panda` with obejcts"
   ]
  },
  {
   "cell_type": "code",
   "execution_count": null,
   "id": "d63d2f26",
   "metadata": {
    "scrolled": true
   },
   "outputs": [],
   "source": [
    "env = MuJoCoParserClass(name='Panda',rel_xml_path='../asset/panda/franka_panda_w_objs.xml',VERBOSE=True)\n",
    "put_env_objets_in_a_row(env,prefix='obj_',x_obj=-1.0,z_obj=0.0)\n",
    "env.init_viewer(TERMINATE_GLFW=False,INITIALIZE_GLFW=True,window_width=0.5,window_height=0.5)\n",
    "env.plot_scene(figsize=(10,6),render_w=1000,render_h=600,\n",
    "               title_str='Initial scene',title_fs=15,RETURN_IMG=False)"
   ]
  },
  {
   "cell_type": "code",
   "execution_count": null,
   "id": "b7bce5df",
   "metadata": {
    "scrolled": true
   },
   "outputs": [],
   "source": [
    "# Simple render\n",
    "env.reset(RESET_SIM=True)\n",
    "put_env_objets_in_a_row(env,prefix='obj_',x_obj=-1.0,z_obj=0.0)\n",
    "env.init_viewer(TERMINATE_GLFW=True,INITIALIZE_GLFW=True,window_width=0.5,window_height=0.5)\n",
    "env.set_max_sec(max_sec=60)\n",
    "\n",
    "# Objects random spawn\n",
    "n_place         = 10 # number of objects to place\n",
    "x_range         = [0.3,1.0]\n",
    "y_range         = [-0.5,0.5]\n",
    "z_range         = [1.1,1.1]\n",
    "put_env_objets_in_a_row(env,prefix='obj_',x_obj=-1.0,z_obj=0.0) # init objects\n",
    "object_names    = get_env_object_names(env,prefix='obj_')\n",
    "n_object        = len(object_names)\n",
    "object_idxs     = np.random.permutation(n_object)[:n_place].astype(int)\n",
    "object_pos_list = np.zeros((n_place,3))\n",
    "for o_idx in range(n_place):\n",
    "    while True:\n",
    "        x = np.random.uniform(low=x_range[0],high=x_range[1])\n",
    "        y = np.random.uniform(low=y_range[0],high=y_range[1])\n",
    "        z = np.random.uniform(low=z_range[0],high=z_range[1])\n",
    "        xyz = np.array([x,y,z])\n",
    "        if o_idx >= 1:\n",
    "            devc = cdist(xyz.reshape((-1,3)),object_pos_list[:o_idx,:].reshape((-1,3)),'euclidean')\n",
    "            if devc.min() > 0.15: break # minimum distance between objects\n",
    "        else:\n",
    "            break\n",
    "    object_pos_list[o_idx,:] = xyz\n",
    "object_placed_names = [object_names[object_idx] for object_idx in object_idxs]\n",
    "set_env_objects(env,object_names=object_placed_names,object_pos_list=object_pos_list,colors=None)\n",
    "\n",
    "while env.IS_ALIVE():\n",
    "    env.step()\n",
    "    marker_xyzs = np.array([[0.3,0,1],[0.3,0.5,1],[0.3,-0.5,1],[1,0,1],[1,0.5,1],[1,-0.5,1],\n",
    "                            [0.3,0,1.2],[0.3,0.5,1.2],[0.3,-0.5,1.2],[1,0,1.2],[1,0.5,1.2],[1,-0.5,1.2]])\n",
    "    # env.add_markers(pos_list=marker_xyzs,radius=0.02,color=np.array([0,0,1,1]))\n",
    "    \n",
    "    # Check contacts\n",
    "    for c_idx in range(env.sim.data.ncon):\n",
    "        contact    = env.sim.data.contact[c_idx]\n",
    "        # Compute contact point and force\n",
    "        p_contact  = contact.pos\n",
    "        f_contact = np.zeros(6,dtype=np.float64) \n",
    "        mujoco_py.functions.mj_contactForce(env.sim.model,env.sim.data,c_idx,f_contact)\n",
    "        # The contact force is in the contact frame\n",
    "        contact_frame = contact.frame\n",
    "        R_frame       = contact_frame.reshape((3,3))\n",
    "        f_contact_global = R_frame @ f_contact[:3]\n",
    "        f_norm = np.linalg.norm(f_contact_global)\n",
    "        \n",
    "        # Contacting bodies\n",
    "        bodyid1    = env.sim.model.geom_bodyid[contact.geom1]\n",
    "        bodyid2    = env.sim.model.geom_bodyid[contact.geom2]\n",
    "        bodyname1  = env.body_idx2name(bodyid1)\n",
    "        bodyname2  = env.body_idx2name(bodyid2)\n",
    "        label      = ''# '%s-%s'%(bodyname1,bodyname2)\n",
    "        # Plot contact force\n",
    "        # env.add_marker(pos=p_contact,radius=0.03,color=np.array([1,0,0,0.5]),label=label)\n",
    "        env.add_arrow(pos=p_contact,uv_arrow=f_contact_global,r_stem=0.02,len_arrow=f_norm/20,\n",
    "                      color=np.array([1, 0, 0.5, 0.3]),label='')\n",
    "        env.add_arrow(pos=p_contact,uv_arrow=-f_contact_global,r_stem=0.02,len_arrow=f_norm/20,\n",
    "                      color=np.array([0.5, 0, 1, 0.3]),label='')\n",
    "        \n",
    "    env.render()\n",
    "env.terminate_viewer()\n",
    "print (\"Done.\")"
   ]
  },
  {
   "cell_type": "code",
   "execution_count": null,
   "id": "48b11e41",
   "metadata": {},
   "outputs": [],
   "source": []
  }
 ],
 "metadata": {
  "kernelspec": {
   "display_name": "Python 3 (ipykernel)",
   "language": "python",
   "name": "python3"
  },
  "language_info": {
   "codemirror_mode": {
    "name": "ipython",
    "version": 3
   },
   "file_extension": ".py",
   "mimetype": "text/x-python",
   "name": "python",
   "nbconvert_exporter": "python",
   "pygments_lexer": "ipython3",
   "version": "3.8.13"
  }
 },
 "nbformat": 4,
 "nbformat_minor": 5
}
