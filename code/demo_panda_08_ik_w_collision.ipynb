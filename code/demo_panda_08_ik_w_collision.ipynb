{
 "cells": [
  {
   "cell_type": "markdown",
   "id": "519d0713",
   "metadata": {},
   "source": [
    "### Inverse kinematics of `Panda` with collision detection"
   ]
  },
  {
   "cell_type": "code",
   "execution_count": null,
   "id": "c62c1fe0",
   "metadata": {},
   "outputs": [],
   "source": [
    "import numpy as np\n",
    "import matplotlib.pyplot as plt\n",
    "import mujoco_py\n",
    "from mujoco_parser import *\n",
    "from util import *\n",
    "np.set_printoptions(precision=2)\n",
    "%config InlineBackend.figure_format = 'retina'\n",
    "%matplotlib inline\n",
    "print (\"Done.\")"
   ]
  },
  {
   "cell_type": "markdown",
   "id": "1ace789a",
   "metadata": {},
   "source": [
    "### Spawn `Panda` with objects and check collision while solving IK"
   ]
  },
  {
   "cell_type": "code",
   "execution_count": null,
   "id": "6e972880",
   "metadata": {
    "scrolled": true
   },
   "outputs": [],
   "source": [
    "env = MuJoCoParserClass(name='Panda',rel_xml_path='../asset/panda/franka_panda_w_objs.xml',VERBOSE=False)\n",
    "random_place_objects(\n",
    "    env,prefix='obj_',n_place=10,x_range=[0.3,1.0],y_range=[-0.5,0.5],z_range=[1.01,1.01],obj_min_dist=0.15)\n",
    "env.init_viewer(TERMINATE_GLFW=True,INITIALIZE_GLFW=True,window_width=0.5,window_height=0.5)\n",
    "env.set_max_tick(max_tick=10000)\n",
    "\n",
    "# Init IK\n",
    "body_name = 'panda_eef'\n",
    "q         = env.get_q_pos(q_pos_idxs=env.rev_joint_idxs)\n",
    "p_EE      = env.get_p_body(body_name=body_name)\n",
    "R_EE      = env.get_R_body(body_name=body_name)\n",
    "p_trgt    = p_EE + np.array([0.5,0.0,-0.5])\n",
    "R_trgt    = R_EE\n",
    "\n",
    "# Buffers\n",
    "err_list = np.zeros(env.max_tick)\n",
    "q_list   = np.zeros((env.max_tick,env.n_rev_joint))\n",
    "while env.IS_ALIVE():\n",
    "    # Numerical IK\n",
    "    dq,err = env.one_step_ik(body_name=body_name,p_trgt=p_trgt,R_trgt=R_trgt,th=3.0*np.pi/180.0)\n",
    "    q = q + dq\n",
    "    # FK\n",
    "    env.forward(q_pos=q,q_pos_idxs=env.rev_joint_idxs)\n",
    "    # Render\n",
    "    env.add_marker(env.get_p_body(body_name),radius=0.02,color=np.array([0,1,0,0.5]))\n",
    "    env.add_marker(p_trgt,radius=0.02,color=np.array([0,1,0,0.5])) \n",
    "    \n",
    "    for c_idx in range(env.sim.data.ncon):\n",
    "        contact    = env.sim.data.contact[c_idx]\n",
    "        p_contact  = contact.pos\n",
    "        bodyname1  = env.body_idx2name(env.sim.model.geom_bodyid[contact.geom1])\n",
    "        bodyname2  = env.body_idx2name(env.sim.model.geom_bodyid[contact.geom2])\n",
    "        label      = '%s-%s'%(bodyname1,bodyname2)\n",
    "        env.add_marker(pos=p_contact,radius=0.1,color=np.array([1,0,0,0.5]),label=label)\n",
    "    \n",
    "    env.render(RENDER_ALWAYS=True)\n",
    "    # Append\n",
    "    q_list[env.tick-1,:] = env.get_q_pos(q_pos_idxs=env.rev_joint_idxs)\n",
    "print (\"Done.\")"
   ]
  },
  {
   "cell_type": "code",
   "execution_count": null,
   "id": "245c62a7",
   "metadata": {},
   "outputs": [],
   "source": [
    "env.terminate_viewer()"
   ]
  },
  {
   "cell_type": "code",
   "execution_count": null,
   "id": "221bfecb",
   "metadata": {},
   "outputs": [],
   "source": []
  }
 ],
 "metadata": {
  "kernelspec": {
   "display_name": "Python 3 (ipykernel)",
   "language": "python",
   "name": "python3"
  },
  "language_info": {
   "codemirror_mode": {
    "name": "ipython",
    "version": 3
   },
   "file_extension": ".py",
   "mimetype": "text/x-python",
   "name": "python",
   "nbconvert_exporter": "python",
   "pygments_lexer": "ipython3",
   "version": "3.8.13"
  }
 },
 "nbformat": 4,
 "nbformat_minor": 5
}
